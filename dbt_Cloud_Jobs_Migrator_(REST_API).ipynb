{
  "nbformat": 4,
  "nbformat_minor": 0,
  "metadata": {
    "colab": {
      "provenance": []
    },
    "kernelspec": {
      "name": "python3",
      "display_name": "Python 3"
    },
    "language_info": {
      "name": "python"
    }
  },
  "cells": [
    {
      "cell_type": "markdown",
      "source": [
        "# Introduction\n",
        "The goal of this script is to ease the migration of jobs from one single env/project/account to another env/project/account in dbt Cloud. It excludes Merge Jobs.\n",
        "\n",
        "Disclaimer :\n",
        "This is free and unencumbered software released into the public domain.\n",
        "\n",
        "Anyone is free to copy, modify, publish, use, compile, sell, or\n",
        "distribute this software, either in source code form or as a compiled\n",
        "binary, for any purpose, commercial or non-commercial, and by any\n",
        "means.\n",
        "\n",
        "In jurisdictions that recognize copyright laws, the author or authors\n",
        "of this software dedicate any and all copyright interest in the\n",
        "software to the public domain. We make this dedication for the benefit\n",
        "of the public at large and to the detriment of our heirs and\n",
        "successors. We intend this dedication to be an overt act of\n",
        "relinquishment in perpetuity of all present and future rights to this\n",
        "software under copyright law.\n",
        "\n",
        "THE SOFTWARE IS PROVIDED \"AS IS\", WITHOUT WARRANTY OF ANY KIND,\n",
        "EXPRESS OR IMPLIED, INCLUDING BUT NOT LIMITED TO THE WARRANTIES OF\n",
        "MERCHANTABILITY, FITNESS FOR A PARTICULAR PURPOSE AND NONINFRINGEMENT.\n",
        "IN NO EVENT SHALL THE AUTHORS BE LIABLE FOR ANY CLAIM, DAMAGES OR\n",
        "OTHER LIABILITY, WHETHER IN AN ACTION OF CONTRACT, TORT OR OTHERWISE,\n",
        "ARISING FROM, OUT OF OR IN CONNECTION WITH THE SOFTWARE OR THE USE OR\n",
        "OTHER DEALINGS IN THE SOFTWARE.\n",
        "\n",
        "For more information, please refer to <https://unlicense.org>"
      ],
      "metadata": {
        "id": "PuLItaMJg0ue"
      }
    },
    {
      "cell_type": "markdown",
      "source": [
        "### 1. Importing Librairies"
      ],
      "metadata": {
        "id": "r4oSW6_YIgup"
      }
    },
    {
      "cell_type": "code",
      "source": [
        "import requests\n",
        "import json\n",
        "import time\n",
        "from getpass import getpass"
      ],
      "metadata": {
        "id": "thBB-LS1CCBE"
      },
      "execution_count": 1,
      "outputs": []
    },
    {
      "cell_type": "markdown",
      "source": [
        "### 2. API Credentials for Base and Target Instance\n",
        "\n",
        "The following two cells define the API token and account/project IDs for both source and target dbt Cloud environments. These credentials are essential for authentication and specifying which environments to work with. For security best practices, consider using environment variables or secure vaults to handle credentials.\n",
        "\n",
        "\n"
      ],
      "metadata": {
        "id": "jG1AkZ8nIt-5"
      }
    },
    {
      "cell_type": "code",
      "source": [
        "# Define parameters needed for API access on the Source - ACCOUNT YOU ARE MIGRATING FROM\n",
        "source_api_token = getpass('Source API TOKEN:') # don't edit this, enter practiveley\n",
        "source_account_id = 70403103916174\n",
        "source_project_id = 70403103917157\n",
        "source_environment_id = 70403103918135\n",
        "source_base_url = 'c1.us1.dbt.com'\n",
        "\n",
        "\n"
      ],
      "metadata": {
        "id": "4L46GBxUfJvi",
        "colab": {
          "base_uri": "https://localhost:8080/"
        },
        "outputId": "7550c600-4322-46fe-af98-19edcc893491"
      },
      "execution_count": 2,
      "outputs": [
        {
          "name": "stdout",
          "output_type": "stream",
          "text": [
            "Source API TOKEN:··········\n"
          ]
        }
      ]
    },
    {
      "cell_type": "code",
      "source": [
        "# Define parameters needed for API access on the Target - ACCOUNT YOU ARE MIGRATING TO\n",
        "target_api_token = getpass('Target API TOKEN')\n",
        "target_account_id = 70403103916174\n",
        "target_project_id = 70403103917157\n",
        "target_environment_id =70403103929206\n",
        "target_base_url = 'c1.us1.dbt.com'\n"
      ],
      "metadata": {
        "id": "A-tyEPdv0-fY",
        "colab": {
          "base_uri": "https://localhost:8080/"
        },
        "outputId": "1e61bdf2-ae97-4ae0-9b0c-3bfcda67b70b"
      },
      "execution_count": 3,
      "outputs": [
        {
          "name": "stdout",
          "output_type": "stream",
          "text": [
            "Target API TOKEN··········\n"
          ]
        }
      ]
    },
    {
      "cell_type": "markdown",
      "source": [
        "### 3. Functions"
      ],
      "metadata": {
        "id": "o5ATH9vPI9YQ"
      }
    },
    {
      "cell_type": "markdown",
      "source": [
        "#### 3.1 Functions to Export Jobs\n",
        "This function fetches jobs from the source dbt Cloud account and project. It filters jobs based on certain conditions like on_merge and the source environment. The dbt Cloud API endpoint used here is described in their [List Jobs documentation.](https://docs.getdbt.com/dbt-cloud/api-v2#/)"
      ],
      "metadata": {
        "id": "OF0Ys5f-JIaZ"
      }
    },
    {
      "cell_type": "code",
      "source": [
        "def export_jobs(api_token, account_id, project_id, source_base_url, source_environment_id):\n",
        "    url = f'https://{source_base_url}/api/v2/accounts/{account_id}/jobs/'\n",
        "    headers = {\n",
        "        'Authorization': f'Token {api_token}',\n",
        "        'Content-Type': 'application/json'\n",
        "    }\n",
        "    params = {\n",
        "        'project_id': int(project_id)\n",
        "    }\n",
        "    response = requests.get(url, headers=headers, params=params)\n",
        "    if response.status_code == 200:\n",
        "        jobs_data = response.json()['data']\n",
        "        #print(jobs_data) Logging initial results\n",
        "\n",
        "        # Filter out jobs where 'on_merge' is True and environment_id does not match\n",
        "        filtered_jobs = [job for job in jobs_data if not job['triggers']['on_merge'] and job['environment_id'] == int(source_environment_id)]\n",
        "        for job in filtered_jobs:\n",
        "            print(f\"On the Environment ID : {job['environment_id']} > Job ID: {job['id']}, Job Name: {job['name']}\")  # Print job ID and name and\n",
        "        #print(filtered_jobs)  # Logging filtered results\n",
        "        return filtered_jobs\n",
        "    else:\n",
        "        raise Exception(f\"Failed to fetch jobs: {response.text}\")"
      ],
      "metadata": {
        "id": "HJNcMgrzfbCh"
      },
      "execution_count": 4,
      "outputs": []
    },
    {
      "cell_type": "markdown",
      "source": [
        "#### 3.2 Function to Create a Job\n",
        "This function creates a new job in the target dbt Cloud environment using the jobs data exported from the source. It uses the [Create Job endpoint](https://docs.getdbt.com/dbt-cloud/api-v2#operation/Create%20Job) from the dbt Cloud API.”"
      ],
      "metadata": {
        "id": "WjZ0xp-UJdZ5"
      }
    },
    {
      "cell_type": "code",
      "source": [
        "def create_job(api_token, account_id, job_data, target_base_url):\n",
        "    url = f'https://{target_base_url}/api/v2/accounts/{account_id}/jobs/'\n",
        "    headers = {\n",
        "        'Authorization': f'Token {api_token}',\n",
        "        'Content-Type': 'application/json'\n",
        "    }\n",
        "    response = requests.post(url, headers=headers, json=job_data)\n",
        "    if response.status_code == 201:\n",
        "        return response.json()['data']\n",
        "    else:\n",
        "        raise Exception(f\"Failed to create job: {response.text}\")"
      ],
      "metadata": {
        "id": "Kh1ZuGHkJbGh"
      },
      "execution_count": 5,
      "outputs": []
    },
    {
      "cell_type": "markdown",
      "source": [
        "#### 3.3 Import Jobs Into Target Env\n",
        "This function import the created list into the target environment [Create Job endpoint](https://docs.getdbt.com/dbt-cloud/api-v2#operation/Create%20Job) from the dbt Cloud API."
      ],
      "metadata": {
        "id": "UhaT2fYFJtqy"
      }
    },
    {
      "cell_type": "code",
      "source": [
        "def import_jobs(api_token, target_account_id, target_project_id, target_environment_id, jobs):\n",
        "    imported_jobs = []\n",
        "    for job in jobs:\n",
        "        job_payload = {\n",
        "            \"id\" : None,\n",
        "            \"name\": job['name'],\n",
        "            \"execute_steps\": job['execute_steps'],\n",
        "            \"dbt_version\": job['dbt_version'],\n",
        "            \"environment_id\":int(target_environment_id),\n",
        "            \"project_id\": int(target_project_id),  # Set project ID to the target project\n",
        "            \"account_id\": int(target_account_id),\n",
        "            \"state\": job['state'],\n",
        "            \"triggers\": job['triggers'],\n",
        "            \"schedule\": job['schedule'],\n",
        "            \"settings\": job['settings']\n",
        "        }\n",
        "        #print(job_payload) Use this for the full  input Job Payload\n",
        "        imported_job = create_job(api_token, target_account_id, job_payload, target_base_url)\n",
        "        # Logging the data for visibility\n",
        "        print(f\"Job ID: {job['id']}, New Job ID : {imported_job['id']}, Job Name: {job['name']}\")\n",
        "        imported_jobs.append(imported_job)\n",
        "        time.sleep(1)  # Sleep for 1 second between job creations\n",
        "    return imported_jobs"
      ],
      "metadata": {
        "id": "jLdg-QStfcXU"
      },
      "execution_count": 6,
      "outputs": []
    },
    {
      "cell_type": "markdown",
      "source": [
        "### 4. Jobs Migration Execution\n",
        "Executes the export_jobs function to retrieve and filter jobs from the source dbt Cloud environment.\n",
        "Executes import_jobs function to import the job in the target env."
      ],
      "metadata": {
        "id": "s9b9VRrOK0Xt"
      }
    },
    {
      "cell_type": "code",
      "source": [
        "# Export Jobs\n",
        "jobs = export_jobs(source_api_token, source_account_id, source_project_id, source_base_url, source_environment_id)"
      ],
      "metadata": {
        "id": "SZFgC43-frDe",
        "colab": {
          "base_uri": "https://localhost:8080/"
        },
        "outputId": "36ddb8d2-027d-437b-9f41-7109a485fd93"
      },
      "execution_count": 7,
      "outputs": [
        {
          "output_type": "stream",
          "name": "stdout",
          "text": [
            "On the Environment ID : 70403103918135 > Job ID: 70403103917658, Job Name: weekly\n",
            "On the Environment ID : 70403103918135 > Job ID: 70403103924639, Job Name: وظيفة\n"
          ]
        }
      ]
    },
    {
      "cell_type": "code",
      "source": [
        "# Import Jobs\n",
        "imported_jobs = import_jobs(target_api_token, target_account_id, target_project_id, target_environment_id, jobs)\n"
      ],
      "metadata": {
        "colab": {
          "base_uri": "https://localhost:8080/"
        },
        "id": "PYgc_iLAfv_6",
        "outputId": "71ba5396-9cdc-4c36-c96e-39b912b52231"
      },
      "execution_count": 8,
      "outputs": [
        {
          "output_type": "stream",
          "name": "stdout",
          "text": [
            "Job ID: 70403103917658, New Job ID : 70403103934885, Job Name: weekly\n",
            "Job ID: 70403103924639, New Job ID : 70403103934886, Job Name: وظيفة\n"
          ]
        }
      ]
    },
    {
      "cell_type": "code",
      "source": [
        "# Summary :\n",
        "print(\"Migration completed. Number of jobs migrated:\", len(imported_jobs))"
      ],
      "metadata": {
        "colab": {
          "base_uri": "https://localhost:8080/"
        },
        "id": "3BNs15DHLpGE",
        "outputId": "a1bc0a43-e245-40a6-ba96-2ccb1472d965"
      },
      "execution_count": 9,
      "outputs": [
        {
          "output_type": "stream",
          "name": "stdout",
          "text": [
            "Migration completed. Number of jobs migrated: 2\n"
          ]
        }
      ]
    }
  ]
}